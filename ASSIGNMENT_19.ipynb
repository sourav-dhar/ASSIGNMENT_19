{
 "cells": [
  {
   "cell_type": "code",
   "execution_count": 4,
   "metadata": {},
   "outputs": [],
   "source": [
    "import heapq\n",
    "\n",
    "class ListNode:\n",
    "    def __init__(self, val=0, next=None):\n",
    "        self.val = val\n",
    "        self.next = next\n",
    "\n",
    "def mergeKLists(lists):\n",
    "    heap = []\n",
    "    for i in range(len(lists)):\n",
    "        if lists[i]:\n",
    "            heapq.heappush(heap, (lists[i].val, i))\n",
    "\n",
    "    dummy = ListNode(0)\n",
    "    curr = dummy\n",
    "\n",
    "    while heap:\n",
    "        val, i = heapq.heappop(heap)\n",
    "        curr.next = ListNode(val)\n",
    "        curr = curr.next\n",
    "\n",
    "        if lists[i].next:\n",
    "            lists[i] = lists[i].next\n",
    "            heapq.heappush(heap, (lists[i].val, i))\n",
    "\n",
    "    return dummy.next\n",
    "\n",
    "\n"
   ]
  },
  {
   "cell_type": "code",
   "execution_count": 5,
   "metadata": {},
   "outputs": [
    {
     "data": {
      "text/plain": [
       "[2, 1, 1, 0]"
      ]
     },
     "execution_count": 5,
     "metadata": {},
     "output_type": "execute_result"
    }
   ],
   "source": [
    "def countSmaller(nums):\n",
    "    def merge_sort(arr):\n",
    "        if len(arr) <= 1:\n",
    "            return arr\n",
    "        \n",
    "        mid = len(arr) // 2\n",
    "        left = merge_sort(arr[:mid])\n",
    "        right = merge_sort(arr[mid:])\n",
    "        return merge(left, right)\n",
    "    \n",
    "    def merge(left, right):\n",
    "        merged = []\n",
    "        i, j, count = 0, 0, 0\n",
    "        \n",
    "        while i < len(left) and j < len(right):\n",
    "            if left[i][0] <= right[j][0]:\n",
    "                merged.append(left[i])\n",
    "                counts[left[i][1]] += count\n",
    "                i += 1\n",
    "            else:\n",
    "                merged.append(right[j])\n",
    "                count += 1\n",
    "                j += 1\n",
    "        \n",
    "        while i < len(left):\n",
    "            merged.append(left[i])\n",
    "            counts[left[i][1]] += count\n",
    "            i += 1\n",
    "        \n",
    "        while j < len(right):\n",
    "            merged.append(right[j])\n",
    "            j += 1\n",
    "        \n",
    "        return merged\n",
    "    \n",
    "    n = len(nums)\n",
    "    counts = [0] * n\n",
    "    arr = [(nums[i], i) for i in range(n)]\n",
    "    merge_sort(arr)\n",
    "    \n",
    "    return counts\n",
    "\n",
    "\n",
    "#example:\n",
    "nums = [5,2,6,1]\n",
    "countSmaller(nums)"
   ]
  },
  {
   "cell_type": "code",
   "execution_count": 6,
   "metadata": {},
   "outputs": [
    {
     "data": {
      "text/plain": [
       "[1, 2, 3, 5]"
      ]
     },
     "execution_count": 6,
     "metadata": {},
     "output_type": "execute_result"
    }
   ],
   "source": [
    "def sortArray(nums):\n",
    "    if len(nums) <= 1:\n",
    "        return nums\n",
    "\n",
    "    mid = len(nums) // 2\n",
    "    left = sortArray(nums[:mid])\n",
    "    right = sortArray(nums[mid:])\n",
    "    return merge(left, right)\n",
    "\n",
    "def merge(left, right):\n",
    "    merged = []\n",
    "    i, j = 0, 0\n",
    "\n",
    "    while i < len(left) and j < len(right):\n",
    "        if left[i] <= right[j]:\n",
    "            merged.append(left[i])\n",
    "            i += 1\n",
    "        else:\n",
    "            merged.append(right[j])\n",
    "            j += 1\n",
    "\n",
    "    while i < len(left):\n",
    "        merged.append(left[i])\n",
    "        i += 1\n",
    "\n",
    "    while j < len(right):\n",
    "        merged.append(right[j])\n",
    "        j += 1\n",
    "\n",
    "    return merged\n",
    "\n",
    "\n",
    "#example:\n",
    "nums = [5,2,3,1]\n",
    "sortArray(nums)\n"
   ]
  },
  {
   "cell_type": "code",
   "execution_count": 15,
   "metadata": {},
   "outputs": [
    {
     "data": {
      "text/plain": [
       "[1, 3, 8, 5, 0, 0, 0, 0]"
      ]
     },
     "execution_count": 15,
     "metadata": {},
     "output_type": "execute_result"
    }
   ],
   "source": [
    "def moveZerosToEnd(arr):\n",
    "    n = len(arr)\n",
    "    left = 0  # Left pointer to track non-zero elements\n",
    "\n",
    "    # Iterate through the array\n",
    "    for i in range(n):\n",
    "        if arr[i] != 0:\n",
    "            arr[left] = arr[i]\n",
    "            left += 1\n",
    "\n",
    "    # Fill the remaining elements with zeros\n",
    "    for i in range(left, n):\n",
    "        arr[i] = 0\n",
    "\n",
    "    return arr\n",
    "\n",
    "\n",
    "\n",
    "#example:\n",
    "arr = [1, 0, 3, 0, 0, 8, 0, 5]\n",
    "moveZerosToEnd(arr)"
   ]
  },
  {
   "cell_type": "code",
   "execution_count": 16,
   "metadata": {},
   "outputs": [
    {
     "data": {
      "text/plain": [
       "[5, 2, 6, 1, 9]"
      ]
     },
     "execution_count": 16,
     "metadata": {},
     "output_type": "execute_result"
    }
   ],
   "source": [
    "def rearrangeArray(arr):\n",
    "    n = len(arr)\n",
    "    positive = 0\n",
    "    negative = 1\n",
    "\n",
    "    # Find the first positive and negative numbers\n",
    "    while positive < n and negative < n:\n",
    "        # Find the next positive number\n",
    "        while positive < n and arr[positive] >= 0:\n",
    "            positive += 2\n",
    "\n",
    "        # Find the next negative number\n",
    "        while negative < n and arr[negative] <= 0:\n",
    "            negative += 2\n",
    "\n",
    "        # Swap the positive and negative numbers\n",
    "        if positive < n and negative < n:\n",
    "            arr[positive], arr[negative] = arr[negative], arr[positive]\n",
    "\n",
    "    return arr\n",
    "#example:\n",
    "nums = [5, 2, 6, 1, 9]\n",
    "rearrangeArray(nums)\n"
   ]
  },
  {
   "cell_type": "code",
   "execution_count": 18,
   "metadata": {},
   "outputs": [
    {
     "data": {
      "text/plain": [
       "[1, 2, 3, 4, 4, 5, 6, 8]"
      ]
     },
     "execution_count": 18,
     "metadata": {},
     "output_type": "execute_result"
    }
   ],
   "source": [
    "def mergeSortedArrays(arr1, arr2):\n",
    "    merged = []\n",
    "    i = 0\n",
    "    j = 0\n",
    "\n",
    "    while i < len(arr1) and j < len(arr2):\n",
    "        if arr1[i] < arr2[j]:\n",
    "            merged.append(arr1[i])\n",
    "            i += 1\n",
    "        else:\n",
    "            merged.append(arr2[j])\n",
    "            j += 1\n",
    "\n",
    "    # Add remaining elements from arr1, if any\n",
    "    while i < len(arr1):\n",
    "        merged.append(arr1[i])\n",
    "        i += 1\n",
    "\n",
    "    # Add remaining elements from arr2, if any\n",
    "    while j < len(arr2):\n",
    "        merged.append(arr2[j])\n",
    "        j += 1\n",
    "\n",
    "    return merged\n",
    "\n",
    "#example:\n",
    "arr1= [1, 3, 4, 5]\n",
    "arr2 = [2, 4, 6, 8]\n",
    "mergeSortedArrays(arr1, arr2)\n"
   ]
  },
  {
   "cell_type": "code",
   "execution_count": 19,
   "metadata": {},
   "outputs": [
    {
     "data": {
      "text/plain": [
       "[2]"
      ]
     },
     "execution_count": 19,
     "metadata": {},
     "output_type": "execute_result"
    }
   ],
   "source": [
    "def intersection(nums1, nums2):\n",
    "    set1 = set(nums1)\n",
    "    set2 = set(nums2)\n",
    "    return list(set1.intersection(set2))\n",
    "#example:\n",
    "\n",
    "nums1 = [1,2,2,1]\n",
    "nums2 = [2,2]\n",
    "\n",
    "intersection(nums1, nums2)"
   ]
  },
  {
   "cell_type": "code",
   "execution_count": 20,
   "metadata": {},
   "outputs": [
    {
     "data": {
      "text/plain": [
       "[2, 2]"
      ]
     },
     "execution_count": 20,
     "metadata": {},
     "output_type": "execute_result"
    }
   ],
   "source": [
    "from collections import Counter\n",
    "\n",
    "def intersect(nums1, nums2):\n",
    "    # Count the occurrences of each element in both arrays\n",
    "    count1 = Counter(nums1)\n",
    "    count2 = Counter(nums2)\n",
    "\n",
    "    # Initialize an empty list to store the intersection\n",
    "    intersection = []\n",
    "\n",
    "    # Iterate through the elements and their counts in nums1\n",
    "    for num, count in count1.items():\n",
    "        # Check if the element exists in nums2\n",
    "        if num in count2:\n",
    "            # Append the element min(count, count2[num]) times to the intersection\n",
    "            intersection.extend([num] * min(count, count2[num]))\n",
    "\n",
    "    return intersection\n",
    "\n",
    "#example:\n",
    "nums1 = [1,2,2,1]\n",
    "nums2 = [2,2]\n",
    "intersect(nums1, nums2)\n",
    "\n"
   ]
  },
  {
   "cell_type": "code",
   "execution_count": null,
   "metadata": {},
   "outputs": [],
   "source": []
  }
 ],
 "metadata": {
  "kernelspec": {
   "display_name": "Python 3",
   "language": "python",
   "name": "python3"
  },
  "language_info": {
   "codemirror_mode": {
    "name": "ipython",
    "version": 3
   },
   "file_extension": ".py",
   "mimetype": "text/x-python",
   "name": "python",
   "nbconvert_exporter": "python",
   "pygments_lexer": "ipython3",
   "version": "3.8.5"
  }
 },
 "nbformat": 4,
 "nbformat_minor": 4
}
